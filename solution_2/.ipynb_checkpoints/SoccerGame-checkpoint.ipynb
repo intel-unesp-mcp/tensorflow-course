{
 "cells": [
  {
   "cell_type": "code",
   "execution_count": 1,
   "metadata": {
    "collapsed": true
   },
   "outputs": [],
   "source": [
    "import pandas as pd\n",
    "import tensorflow as tf\n",
    "import numpy as  np\n",
    "import os"
   ]
  },
  {
   "cell_type": "code",
   "execution_count": 2,
   "metadata": {
    "collapsed": true
   },
   "outputs": [],
   "source": [
    "DATA_DIR = \"C:/Users/fgoncalx/Documents/TensorflowProjects/soccer_game/tensorflow-course/data\""
   ]
  },
  {
   "cell_type": "code",
   "execution_count": 3,
   "metadata": {
    "collapsed": true,
    "scrolled": true
   },
   "outputs": [],
   "source": [
    "scores = np.empty([99,90, 2])\n",
    "for game in range(0,99):\n",
    "    scores[game,:] = np.array(pd.read_csv(DATA_DIR + '/jogo' + str(game+1) + '.txt',delim_whitespace=True, header=None).values)\n",
    "    \n",
    "#print(scores[98,:].shape)"
   ]
  },
  {
   "cell_type": "code",
   "execution_count": 4,
   "metadata": {
    "collapsed": true
   },
   "outputs": [],
   "source": [
    "session = tf.InteractiveSession()\n",
    "\n",
    "placar = tf.reduce_sum(scores,1)\n",
    "placar_num = placar.eval()\n",
    "\n",
    "#print(placar_num[98])"
   ]
  },
  {
   "cell_type": "code",
   "execution_count": 5,
   "metadata": {
    "collapsed": true
   },
   "outputs": [],
   "source": [
    "teamAgoals = tf.placeholder(tf.int32)\n",
    "teamBgoals = tf.placeholder(tf.int32)\n",
    "\n",
    "teamAscore =  tf.Variable(0, name='teamAscore')\n",
    "teamBscore =  tf.Variable(0, name='teamBscore')\n",
    "\n",
    "teamBwinGraph = tf.cond(tf.greater(teamBgoals,teamAgoals), lambda: tf.assign_add(teamBscore,3), lambda: tf.add(0,0) )\n",
    "\n",
    "teamAwinGraph = tf.cond(tf.greater(teamAgoals, teamBgoals), lambda: tf.assign_add(teamAscore,3), lambda: teamBwinGraph  )\n",
    "\n",
    "giveOnePointToB = tf.cond(tf.equal(teamAgoals, teamBgoals),lambda: tf.assign_add(teamBscore,1),lambda:teamAwinGraph )\n",
    "\n",
    "gameRulesGraph = tf.cond(tf.equal(teamAgoals, teamBgoals),lambda: tf.assign_add(teamAscore,1), lambda: giveOnePointToB  )"
   ]
  },
  {
   "cell_type": "code",
   "execution_count": 6,
   "metadata": {
    "collapsed": true
   },
   "outputs": [],
   "source": [
    "tf.global_variables_initializer().run()"
   ]
  },
  {
   "cell_type": "code",
   "execution_count": 7,
   "metadata": {},
   "outputs": [
    {
     "name": "stdout",
     "output_type": "stream",
     "text": [
      "Score game 1: Team A (1) x (3) Team B\n",
      "Score game 2: Team A (3) x (1) Team B\n",
      "Score game 3: Team A (1) x (3) Team B\n",
      "Score game 4: Team A (0) x (3) Team B\n",
      "Score game 5: Team A (1) x (6) Team B\n",
      "Score game 6: Team A (2) x (2) Team B\n",
      "Score game 7: Team A (5) x (1) Team B\n",
      "Score game 8: Team A (1) x (2) Team B\n",
      "Score game 9: Team A (0) x (0) Team B\n",
      "Score game 10: Team A (2) x (0) Team B\n",
      "Score game 11: Team A (3) x (1) Team B\n",
      "Score game 12: Team A (3) x (1) Team B\n",
      "Score game 13: Team A (2) x (1) Team B\n",
      "Score game 14: Team A (1) x (3) Team B\n",
      "Score game 15: Team A (4) x (1) Team B\n",
      "Score game 16: Team A (3) x (2) Team B\n",
      "Score game 17: Team A (5) x (2) Team B\n",
      "Score game 18: Team A (2) x (1) Team B\n",
      "Score game 19: Team A (0) x (1) Team B\n",
      "Score game 20: Team A (0) x (1) Team B\n",
      "Score game 21: Team A (2) x (0) Team B\n",
      "Score game 22: Team A (1) x (1) Team B\n",
      "Score game 23: Team A (2) x (1) Team B\n",
      "Score game 24: Team A (1) x (1) Team B\n",
      "Score game 25: Team A (3) x (2) Team B\n",
      "Score game 26: Team A (0) x (0) Team B\n",
      "Score game 27: Team A (0) x (5) Team B\n",
      "Score game 28: Team A (2) x (1) Team B\n",
      "Score game 29: Team A (2) x (3) Team B\n",
      "Score game 30: Team A (1) x (1) Team B\n",
      "Score game 31: Team A (3) x (0) Team B\n",
      "Score game 32: Team A (2) x (3) Team B\n",
      "Score game 33: Team A (3) x (3) Team B\n",
      "Score game 34: Team A (1) x (5) Team B\n",
      "Score game 35: Team A (4) x (1) Team B\n",
      "Score game 36: Team A (0) x (0) Team B\n",
      "Score game 37: Team A (0) x (1) Team B\n",
      "Score game 38: Team A (1) x (0) Team B\n",
      "Score game 39: Team A (0) x (4) Team B\n",
      "Score game 40: Team A (1) x (5) Team B\n",
      "Score game 41: Team A (1) x (1) Team B\n",
      "Score game 42: Team A (4) x (3) Team B\n",
      "Score game 43: Team A (1) x (3) Team B\n",
      "Score game 44: Team A (2) x (2) Team B\n",
      "Score game 45: Team A (3) x (4) Team B\n",
      "Score game 46: Team A (6) x (1) Team B\n",
      "Score game 47: Team A (2) x (0) Team B\n",
      "Score game 48: Team A (0) x (0) Team B\n",
      "Score game 49: Team A (4) x (1) Team B\n",
      "Score game 50: Team A (0) x (0) Team B\n",
      "Score game 51: Team A (2) x (0) Team B\n",
      "Score game 52: Team A (3) x (2) Team B\n",
      "Score game 53: Team A (2) x (2) Team B\n",
      "Score game 54: Team A (1) x (2) Team B\n",
      "Score game 55: Team A (0) x (1) Team B\n",
      "Score game 56: Team A (0) x (1) Team B\n",
      "Score game 57: Team A (3) x (2) Team B\n",
      "Score game 58: Team A (4) x (3) Team B\n",
      "Score game 59: Team A (2) x (3) Team B\n",
      "Score game 60: Team A (3) x (1) Team B\n",
      "Score game 61: Team A (5) x (4) Team B\n",
      "Score game 62: Team A (3) x (1) Team B\n",
      "Score game 63: Team A (2) x (2) Team B\n",
      "Score game 64: Team A (2) x (3) Team B\n",
      "Score game 65: Team A (5) x (0) Team B\n",
      "Score game 66: Team A (1) x (1) Team B\n",
      "Score game 67: Team A (3) x (1) Team B\n",
      "Score game 68: Team A (1) x (1) Team B\n",
      "Score game 69: Team A (3) x (3) Team B\n",
      "Score game 70: Team A (0) x (2) Team B\n",
      "Score game 71: Team A (1) x (2) Team B\n",
      "Score game 72: Team A (3) x (4) Team B\n",
      "Score game 73: Team A (2) x (2) Team B\n",
      "Score game 74: Team A (1) x (4) Team B\n",
      "Score game 75: Team A (1) x (2) Team B\n",
      "Score game 76: Team A (3) x (1) Team B\n",
      "Score game 77: Team A (0) x (2) Team B\n",
      "Score game 78: Team A (2) x (0) Team B\n",
      "Score game 79: Team A (0) x (2) Team B\n",
      "Score game 80: Team A (1) x (1) Team B\n",
      "Score game 81: Team A (3) x (2) Team B\n",
      "Score game 82: Team A (2) x (1) Team B\n",
      "Score game 83: Team A (2) x (0) Team B\n",
      "Score game 84: Team A (2) x (0) Team B\n",
      "Score game 85: Team A (3) x (1) Team B\n",
      "Score game 86: Team A (0) x (2) Team B\n",
      "Score game 87: Team A (2) x (2) Team B\n",
      "Score game 88: Team A (1) x (3) Team B\n",
      "Score game 89: Team A (1) x (2) Team B\n",
      "Score game 90: Team A (2) x (6) Team B\n",
      "Score game 91: Team A (3) x (2) Team B\n",
      "Score game 92: Team A (3) x (3) Team B\n",
      "Score game 93: Team A (1) x (3) Team B\n",
      "Score game 94: Team A (0) x (1) Team B\n",
      "Score game 95: Team A (0) x (0) Team B\n",
      "Score game 96: Team A (0) x (3) Team B\n",
      "Score game 97: Team A (2) x (2) Team B\n",
      "Score game 98: Team A (1) x (2) Team B\n",
      "Score game 99: Team A (4) x (3) Team B\n",
      "score: Team A (140) x (134) Team B\n",
      "Team A won!\n"
     ]
    }
   ],
   "source": [
    "for game_index in range(0,99):\n",
    "    result = session.run(gameRulesGraph,feed_dict={teamAgoals: placar_num[game_index][0], teamBgoals: placar_num[game_index][1]})   \n",
    "    print(\"Score game \"+ str(game_index+1) + \": Team A (\" + str(int(placar_num[game_index][0])) + \") x (\" + str(int(placar_num[game_index][1])) +\") Team B\")\n",
    "\n",
    "scoreA = teamAscore.eval()\n",
    "scoreB = teamBscore.eval()  \n",
    "print(\"score: Team A (\" + str(scoreA) + \") x (\" + str(scoreB) +\") Team B\")\n",
    "\n",
    "if(scoreA > scoreB):\n",
    "    print(\"Team A won!\")\n",
    "elif(scoreB > scoreA):\n",
    "    print(\"Team B won!\")\n",
    "else:\n",
    "    print(\"There was a draw between Team A and Team B\")\n"
   ]
  },
  {
   "cell_type": "code",
   "execution_count": 8,
   "metadata": {
    "collapsed": true
   },
   "outputs": [],
   "source": [
    "writer = tf.summary.FileWriter('./game_graphs', session.graph)\n",
    "session.close()"
   ]
  },
  {
   "cell_type": "code",
   "execution_count": null,
   "metadata": {
    "collapsed": true
   },
   "outputs": [],
   "source": []
  }
 ],
 "metadata": {
  "kernelspec": {
   "display_name": "Python 3",
   "language": "python",
   "name": "python3"
  },
  "language_info": {
   "codemirror_mode": {
    "name": "ipython",
    "version": 3
   },
   "file_extension": ".py",
   "mimetype": "text/x-python",
   "name": "python",
   "nbconvert_exporter": "python",
   "pygments_lexer": "ipython3",
   "version": "3.5.4"
  }
 },
 "nbformat": 4,
 "nbformat_minor": 2
}
