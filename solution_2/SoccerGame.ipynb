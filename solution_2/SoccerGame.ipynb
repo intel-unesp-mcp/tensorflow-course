{
 "cells": [
  {
   "cell_type": "code",
   "execution_count": 7,
   "metadata": {
    "collapsed": true
   },
   "outputs": [],
   "source": [
    "import pandas as pd\n",
    "import tensorflow as tf\n",
    "import numpy as  np"
   ]
  },
  {
   "cell_type": "code",
   "execution_count": 8,
   "metadata": {
    "scrolled": true
   },
   "outputs": [],
   "source": [
    "scores = np.empty([99,90, 2])\n",
    "for game in range(0,99):\n",
    "    scores[game,:] = np.array(pd.read_csv('../data/jogo' + str(game+1) + '.txt',delim_whitespace=True, header=None).values)\n",
    "    \n",
    "#print(scores[98,:].shape)"
   ]
  },
  {
   "cell_type": "code",
   "execution_count": 9,
   "metadata": {},
   "outputs": [],
   "source": [
    "session = tf.InteractiveSession()\n",
    "\n",
    "placar = tf.reduce_sum(scores,1)\n",
    "placar_num = placar.eval()\n",
    "\n",
    "#print(placar_num[98])"
   ]
  },
  {
   "cell_type": "code",
   "execution_count": 10,
   "metadata": {
    "collapsed": true
   },
   "outputs": [],
   "source": [
    "teamAgoals = tf.placeholder(tf.int32)\n",
    "teamBgoals = tf.placeholder(tf.int32)\n",
    "\n",
    "teamAscore =  tf.Variable(0, name='teamAscore')\n",
    "teamBscore =  tf.Variable(0, name='teamBscore')\n",
    "\n",
    "teamBwinGraph = tf.cond(tf.greater(teamBgoals,teamAgoals), lambda: tf.assign_add(teamBscore,3), lambda: tf.add(0,0) )\n",
    "\n",
    "teamAwinGraph = tf.cond(tf.greater(teamAgoals, teamBgoals), lambda: tf.assign_add(teamAscore,3), lambda: teamBwinGraph  )\n",
    "\n",
    "giveOnePointToB = tf.cond(tf.equal(teamAgoals, teamBgoals),lambda: tf.assign_add(teamBscore,1),lambda:teamAwinGraph )\n",
    "\n",
    "gameRulesGraph = tf.cond(tf.equal(teamAgoals, teamBgoals),lambda: tf.assign_add(teamAscore,1), lambda: giveOnePointToB  )"
   ]
  },
  {
   "cell_type": "code",
   "execution_count": 11,
   "metadata": {
    "collapsed": true
   },
   "outputs": [],
   "source": [
    "tf.global_variables_initializer().run()"
   ]
  },
  {
   "cell_type": "code",
   "execution_count": 13,
   "metadata": {},
   "outputs": [
    {
     "name": "stdout",
     "output_type": "stream",
     "text": [
      "Score game 1: Team A (0) x (6) Team B\n",
      "Score game 2: Team A (3) x (6) Team B\n",
      "Score game 3: Team A (3) x (9) Team B\n",
      "Score game 4: Team A (3) x (12) Team B\n",
      "Score game 5: Team A (3) x (15) Team B\n",
      "Score game 6: Team A (4) x (16) Team B\n",
      "Score game 7: Team A (7) x (16) Team B\n",
      "Score game 8: Team A (7) x (19) Team B\n",
      "Score game 9: Team A (8) x (20) Team B\n",
      "Score game 10: Team A (11) x (20) Team B\n",
      "Score game 11: Team A (14) x (20) Team B\n",
      "Score game 12: Team A (17) x (20) Team B\n",
      "Score game 13: Team A (20) x (20) Team B\n",
      "Score game 14: Team A (20) x (23) Team B\n",
      "Score game 15: Team A (23) x (23) Team B\n",
      "Score game 16: Team A (26) x (23) Team B\n",
      "Score game 17: Team A (29) x (23) Team B\n",
      "Score game 18: Team A (32) x (23) Team B\n",
      "Score game 19: Team A (32) x (26) Team B\n",
      "Score game 20: Team A (32) x (29) Team B\n",
      "Score game 21: Team A (35) x (29) Team B\n",
      "Score game 22: Team A (36) x (30) Team B\n",
      "Score game 23: Team A (39) x (30) Team B\n",
      "Score game 24: Team A (40) x (31) Team B\n",
      "Score game 25: Team A (43) x (31) Team B\n",
      "Score game 26: Team A (44) x (32) Team B\n",
      "Score game 27: Team A (44) x (35) Team B\n",
      "Score game 28: Team A (47) x (35) Team B\n",
      "Score game 29: Team A (47) x (38) Team B\n",
      "Score game 30: Team A (48) x (39) Team B\n",
      "Score game 31: Team A (51) x (39) Team B\n",
      "Score game 32: Team A (51) x (42) Team B\n",
      "Score game 33: Team A (52) x (43) Team B\n",
      "Score game 34: Team A (52) x (46) Team B\n",
      "Score game 35: Team A (55) x (46) Team B\n",
      "Score game 36: Team A (56) x (47) Team B\n",
      "Score game 37: Team A (56) x (50) Team B\n",
      "Score game 38: Team A (59) x (50) Team B\n",
      "Score game 39: Team A (59) x (53) Team B\n",
      "Score game 40: Team A (59) x (56) Team B\n",
      "Score game 41: Team A (60) x (57) Team B\n",
      "Score game 42: Team A (63) x (57) Team B\n",
      "Score game 43: Team A (63) x (60) Team B\n",
      "Score game 44: Team A (64) x (61) Team B\n",
      "Score game 45: Team A (64) x (64) Team B\n",
      "Score game 46: Team A (67) x (64) Team B\n",
      "Score game 47: Team A (70) x (64) Team B\n",
      "Score game 48: Team A (71) x (65) Team B\n",
      "Score game 49: Team A (74) x (65) Team B\n",
      "Score game 50: Team A (75) x (66) Team B\n",
      "Score game 51: Team A (78) x (66) Team B\n",
      "Score game 52: Team A (81) x (66) Team B\n",
      "Score game 53: Team A (82) x (67) Team B\n",
      "Score game 54: Team A (82) x (70) Team B\n",
      "Score game 55: Team A (82) x (73) Team B\n",
      "Score game 56: Team A (82) x (76) Team B\n",
      "Score game 57: Team A (85) x (76) Team B\n",
      "Score game 58: Team A (88) x (76) Team B\n",
      "Score game 59: Team A (88) x (79) Team B\n",
      "Score game 60: Team A (91) x (79) Team B\n",
      "Score game 61: Team A (94) x (79) Team B\n",
      "Score game 62: Team A (97) x (79) Team B\n",
      "Score game 63: Team A (98) x (80) Team B\n",
      "Score game 64: Team A (98) x (83) Team B\n",
      "Score game 65: Team A (101) x (83) Team B\n",
      "Score game 66: Team A (102) x (84) Team B\n",
      "Score game 67: Team A (105) x (84) Team B\n",
      "Score game 68: Team A (106) x (85) Team B\n",
      "Score game 69: Team A (107) x (86) Team B\n",
      "Score game 70: Team A (107) x (89) Team B\n",
      "Score game 71: Team A (107) x (92) Team B\n",
      "Score game 72: Team A (107) x (95) Team B\n",
      "Score game 73: Team A (108) x (96) Team B\n",
      "Score game 74: Team A (108) x (99) Team B\n",
      "Score game 75: Team A (108) x (102) Team B\n",
      "Score game 76: Team A (111) x (102) Team B\n",
      "Score game 77: Team A (111) x (105) Team B\n",
      "Score game 78: Team A (114) x (105) Team B\n",
      "Score game 79: Team A (114) x (108) Team B\n",
      "Score game 80: Team A (115) x (109) Team B\n",
      "Score game 81: Team A (118) x (109) Team B\n",
      "Score game 82: Team A (121) x (109) Team B\n",
      "Score game 83: Team A (124) x (109) Team B\n",
      "Score game 84: Team A (127) x (109) Team B\n",
      "Score game 85: Team A (130) x (109) Team B\n",
      "Score game 86: Team A (130) x (112) Team B\n",
      "Score game 87: Team A (131) x (113) Team B\n",
      "Score game 88: Team A (131) x (116) Team B\n",
      "Score game 89: Team A (131) x (119) Team B\n",
      "Score game 90: Team A (131) x (122) Team B\n",
      "Score game 91: Team A (134) x (122) Team B\n",
      "Score game 92: Team A (135) x (123) Team B\n",
      "Score game 93: Team A (135) x (126) Team B\n",
      "Score game 94: Team A (135) x (129) Team B\n",
      "Score game 95: Team A (136) x (130) Team B\n",
      "Score game 96: Team A (136) x (133) Team B\n",
      "Score game 97: Team A (137) x (134) Team B\n",
      "Score game 98: Team A (137) x (137) Team B\n",
      "Score game 99: Team A (140) x (137) Team B\n",
      "score: Team A (140) x (137) Team B\n",
      "Team A won!\n"
     ]
    }
   ],
   "source": [
    "for game_index in range(0,99):\n",
    "    result = session.run(gameRulesGraph,feed_dict={teamAgoals: placar_num[game_index][0], teamBgoals: placar_num[game_index][1]})\n",
    "    scoreA = teamAscore.eval()\n",
    "    scoreB = teamBscore.eval()\n",
    "    print(\"Score game \"+ str(game_index+1) + \": Team A (\" + str(scoreA) + \") x (\" + str(scoreB) +\") Team B\")\n",
    "    \n",
    "print(\"score: Team A (\" + str(scoreA) + \") x (\" + str(scoreB) +\") Team B\")\n",
    "\n",
    "if(scoreA > scoreB):\n",
    "    print(\"Team A won!\")\n",
    "elif(scoreB > scoreA):\n",
    "    print(\"Team B won!\")\n",
    "else:\n",
    "    print(\"There was a draw between Team A and Team B\")\n"
   ]
  },
  {
   "cell_type": "code",
   "execution_count": 7,
   "metadata": {
    "collapsed": true
   },
   "outputs": [],
   "source": [
    "writer = tf.summary.FileWriter('./game_graphs', session.graph)\n",
    "session.close()"
   ]
  },
  {
   "cell_type": "code",
   "execution_count": null,
   "metadata": {
    "collapsed": true
   },
   "outputs": [],
   "source": []
  }
 ],
 "metadata": {
  "kernelspec": {
   "display_name": "Python 3",
   "language": "python",
   "name": "python3"
  },
  "language_info": {
   "codemirror_mode": {
    "name": "ipython",
    "version": 3
   },
   "file_extension": ".py",
   "mimetype": "text/x-python",
   "name": "python",
   "nbconvert_exporter": "python",
   "pygments_lexer": "ipython3",
   "version": "3.5.4"
  }
 },
 "nbformat": 4,
 "nbformat_minor": 2
}
